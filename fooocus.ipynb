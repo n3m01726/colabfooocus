# Install Fooocus & Aria2
!apt -y install -qq aria2
!pip install pygit2==1.15.1

import os

# Récupérer les tokens de manière sécurisée
HF_TOKEN = os.getenv("HF_TOKEN")
CV_TOKEN = os.getenv("CV_TOKEN")

if not HF_TOKEN or not CV_TOKEN:
    raise ValueError("❌ Erreur : Les tokens HF et CivitAI ne sont pas définis dans les variables d'environnement.")

# Vérifier si Fooocus est déjà cloné
if not os.path.exists("/content/Fooocus"):
    !git clone --depth 1 https://github.com/lllyasviel/Fooocus.git /content/Fooocus
%cd /content/Fooocus

# Créer les dossiers nécessaires
folders = ["/content/Fooocus/models/checkpoints/", "/content/Fooocus/models/loras/"]
for folder in folders:
    os.makedirs(folder, exist_ok=True)

# Liste des fichiers à télécharger
downloads = [
    {
        'url': 'https://civitai.com/api/download/models/646523?type=Model&format=SafeTensor&size=pruned&fp=fp16',
        'output': 'epicrealism_xl_v9-kiss.safetensors',
        'folder': '/content/Fooocus/models/checkpoints/'
    },
    {
        'url': 'https://civitai.com/api/download/models/570138?type=Model&format=SafeTensor&size=pruned&fp=fp16',
        'output': 'leosams_helloworld_xl.safetensors',
        'folder': '/content/Fooocus/models/checkpoints/'
    },
    {
        'url': 'https://civitai.com/api/download/models/293240?type=Model&format=SafeTensor&size=pruned&fp=fp16',
        'output': 'realism_engine_sdxl.safetensors',
        'folder': '/content/Fooocus/models/checkpoints/'
    },
    {
        'url': 'https://civitai.com/api/download/models/155308?type=Model&format=SafeTensor',
        'output': 'breasts_adjust_xl.safetensors',
        'folder': '/content/Fooocus/models/loras/'
    },
    {
        'url': 'https://civitai.com/api/download/models/690310?type=Model&format=SafeTensor&size=full&fp=fp16',
        'output': 'stoiqo_newreality.safetensors',
        'folder': '/content/Fooocus/models/checkpoints/'
    }
]

# Téléchargements en boucle
for file in downloads:
    print(f"📥 Téléchargement de {file['output']}...")

    if "huggingface.co" in file["url"]:
        command = (
            f'aria2c --header "Authorization: Bearer {HF_TOKEN}" '
            f'--console-log-level=error -c -x 16 -s 16 -k 1M '
            f'"{file["url"]}" -d "{file["folder"]}" -o "{file["output"]}"'
        )
    elif "civitai.com" in file["url"]:
        command = (
            f'aria2c --header "x-api-key: {CV_TOKEN}" '
            f'--console-log-level=error -c -x 16 -s 16 -k 1M '
            f'"{file["url"]}" -d "{file["folder"]}" -o "{file["output"]}"'
        )
    else:
        command = (
            f'aria2c --console-log-level=error -c -x 16 -s 16 -k 1M '
            f'"{file["url"]}" -d "{file["folder"]}" -o "{file["output"]}"'
        )
    
    os.system(command)

# Lancer Fooocus après les téléchargements
!python entry_with_update.py --share --always-high-vram
